{
 "cells": [
  {
   "cell_type": "code",
   "execution_count": 1,
   "id": "d3af3cfe-9adb-45b7-94a8-9758e8c41230",
   "metadata": {},
   "outputs": [],
   "source": [
    "import pandas as pd\n",
    "from sklearn.model_selection import train_test_split\n",
    "from sklearn.ensemble import RandomForestClassifier\n",
    "from sklearn.metrics import classification_report"
   ]
  },
  {
   "cell_type": "code",
   "execution_count": 2,
   "id": "b12bfd18-1746-400a-9625-8574e7883692",
   "metadata": {},
   "outputs": [],
   "source": [
    "# CSV dosyasını oku\n",
    "csv_file_path = \"accent-mfcc-data-1.csv\"\n",
    "df = pd.read_csv(csv_file_path)\n"
   ]
  },
  {
   "cell_type": "code",
   "execution_count": 3,
   "id": "e4305f25-1dbe-4d8f-b221-49b92f0e737a",
   "metadata": {},
   "outputs": [],
   "source": [
    "#Feature selection ile X3 özelliği kullanılmaz ise accuracy 0.79 dan 0.82 ye çıkıyor\n",
    "selected_features = [\"X10\",\"X1\",\"X7\",\"X5\",\"X6\",\"X9\",\"X4\",\"X2\",\"X12\",\"X11\",\"X8\"]\n",
    "X = df[selected_features]\n",
    "y = df[\"language\"]"
   ]
  },
  {
   "cell_type": "code",
   "execution_count": 4,
   "id": "fdc025e8-757a-484f-9d7a-fcfb4a220745",
   "metadata": {},
   "outputs": [],
   "source": [
    "# Veriyi train ve test setlerine ayır (80% train, 20% test)\n",
    "X_train, X_test, y_train, y_test = train_test_split(X, y, test_size=0.20, random_state=42)\n",
    "\n",
    "# Random Forest sınıflandırıcısını oluştur\n",
    "clf = RandomForestClassifier(random_state=42)\n",
    "\n",
    "# Modeli eğit\n",
    "clf.fit(X_train, y_train)\n",
    "\n",
    "# Test seti üzerinde tahmin yap\n",
    "y_pred = clf.predict(X_test)"
   ]
  },
  {
   "cell_type": "code",
   "execution_count": 5,
   "id": "e3a488c6-84e1-4b77-bf02-57652f848b1a",
   "metadata": {},
   "outputs": [
    {
     "name": "stdout",
     "output_type": "stream",
     "text": [
      "Sınıflandırma Raporu:\n",
      "               precision    recall  f1-score   support\n",
      "\n",
      "          ES       1.00      0.83      0.91         6\n",
      "          FR       0.80      0.67      0.73         6\n",
      "          GE       0.80      0.57      0.67         7\n",
      "          IT       0.56      1.00      0.71         5\n",
      "          UK       0.86      0.67      0.75         9\n",
      "          US       0.86      0.91      0.88        33\n",
      "\n",
      "    accuracy                           0.82        66\n",
      "   macro avg       0.81      0.77      0.77        66\n",
      "weighted avg       0.84      0.82      0.82        66\n",
      "\n"
     ]
    }
   ],
   "source": [
    "# Sınıflandırma raporunu görüntüle\n",
    "print(\"Sınıflandırma Raporu:\\n\", classification_report(y_test, y_pred))"
   ]
  },
  {
   "cell_type": "code",
   "execution_count": 6,
   "id": "9b958a40-0879-44ad-9301-4e9c705fadc5",
   "metadata": {},
   "outputs": [],
   "source": [
    "#Feature selection ile X10 ve X3 özelliği kullanılmaz ise accuracy 0.79 dan 0.89 a çıkıyor\n",
    "selected_features = [\"X1\",\"X7\",\"X5\",\"X6\",\"X9\",\"X4\",\"X2\",\"X12\",\"X11\",\"X8\"]\n",
    "X = df[selected_features]\n",
    "y = df[\"language\"]\n"
   ]
  },
  {
   "cell_type": "code",
   "execution_count": 7,
   "id": "3befa043-bd05-4762-a676-1a4b1f1e8362",
   "metadata": {},
   "outputs": [],
   "source": [
    "# Veriyi train ve test setlerine ayır (80% train, 20% test)\n",
    "X_train, X_test, y_train, y_test = train_test_split(X, y, test_size=0.20, random_state=42)\n",
    "\n",
    "# Random Forest sınıflandırıcısını oluştur\n",
    "clf = RandomForestClassifier(random_state=42)\n",
    "\n",
    "# Modeli eğit\n",
    "clf.fit(X_train, y_train)\n",
    "\n",
    "# Test seti üzerinde tahmin yap\n",
    "y_pred = clf.predict(X_test)"
   ]
  },
  {
   "cell_type": "code",
   "execution_count": 8,
   "id": "da718e44-f953-4eca-92e8-9cc665be4677",
   "metadata": {},
   "outputs": [
    {
     "name": "stdout",
     "output_type": "stream",
     "text": [
      "Sınıflandırma Raporu:\n",
      "               precision    recall  f1-score   support\n",
      "\n",
      "          ES       1.00      0.83      0.91         6\n",
      "          FR       0.86      1.00      0.92         6\n",
      "          GE       1.00      1.00      1.00         7\n",
      "          IT       0.83      1.00      0.91         5\n",
      "          UK       0.75      0.67      0.71         9\n",
      "          US       0.91      0.91      0.91        33\n",
      "\n",
      "    accuracy                           0.89        66\n",
      "   macro avg       0.89      0.90      0.89        66\n",
      "weighted avg       0.89      0.89      0.89        66\n",
      "\n"
     ]
    }
   ],
   "source": [
    "# Sınıflandırma raporunu görüntüle\n",
    "print(\"Sınıflandırma Raporu:\\n\", classification_report(y_test, y_pred))"
   ]
  },
  {
   "cell_type": "code",
   "execution_count": null,
   "id": "f8b73ecb-d2b4-4463-86d1-29ab72a0aa9a",
   "metadata": {},
   "outputs": [],
   "source": []
  },
  {
   "cell_type": "code",
   "execution_count": null,
   "id": "b486409b-134d-4a19-aa1e-c9305913c0f7",
   "metadata": {},
   "outputs": [],
   "source": []
  },
  {
   "cell_type": "code",
   "execution_count": null,
   "id": "eabf81c4-1157-41aa-bc0c-1cf29ea8f246",
   "metadata": {},
   "outputs": [],
   "source": []
  },
  {
   "cell_type": "code",
   "execution_count": null,
   "id": "c705f7ca-1147-425b-b6ca-dce783a5fb94",
   "metadata": {},
   "outputs": [],
   "source": []
  },
  {
   "cell_type": "code",
   "execution_count": null,
   "id": "80d3e736-a193-4459-8912-7ca8e64cedda",
   "metadata": {},
   "outputs": [],
   "source": []
  },
  {
   "cell_type": "code",
   "execution_count": null,
   "id": "3f9c4746-edd9-48a3-9443-a1eb6d77d0e2",
   "metadata": {},
   "outputs": [],
   "source": []
  },
  {
   "cell_type": "code",
   "execution_count": null,
   "id": "35281564-2a42-41af-83f5-f5223367887d",
   "metadata": {},
   "outputs": [],
   "source": []
  },
  {
   "cell_type": "code",
   "execution_count": null,
   "id": "daf5b8aa-e66f-425f-aa99-a8edd67058ca",
   "metadata": {},
   "outputs": [],
   "source": []
  },
  {
   "cell_type": "code",
   "execution_count": null,
   "id": "66f12c82-1980-4e34-bbc0-5973674212dd",
   "metadata": {},
   "outputs": [],
   "source": []
  },
  {
   "cell_type": "code",
   "execution_count": null,
   "id": "b80f06ad-f73c-4a6d-a8d2-66bda8461640",
   "metadata": {},
   "outputs": [],
   "source": []
  }
 ],
 "metadata": {
  "kernelspec": {
   "display_name": "Python 3 (ipykernel)",
   "language": "python",
   "name": "python3"
  },
  "language_info": {
   "codemirror_mode": {
    "name": "ipython",
    "version": 3
   },
   "file_extension": ".py",
   "mimetype": "text/x-python",
   "name": "python",
   "nbconvert_exporter": "python",
   "pygments_lexer": "ipython3",
   "version": "3.11.7"
  }
 },
 "nbformat": 4,
 "nbformat_minor": 5
}
