{
 "cells": [
  {
   "cell_type": "code",
   "execution_count": 1,
   "id": "6b38d39e-f7d7-4491-badd-8d23b9f613c8",
   "metadata": {},
   "outputs": [],
   "source": [
    "import librosa\n",
    "import numpy as np\n",
    "import matplotlib.pyplot as plt\n",
    "from sklearn.model_selection import train_test_split\n",
    "from sklearn.ensemble import RandomForestClassifier\n",
    "from sklearn.metrics import accuracy_score, classification_report, ConfusionMatrixDisplay"
   ]
  },
  {
   "cell_type": "code",
   "execution_count": 2,
   "id": "d6430ecb-81e1-41d4-aa96-93b73773bd48",
   "metadata": {},
   "outputs": [],
   "source": [
    "# Ses dosyasını yükleme ve özellik çıkarımı\n",
    "def extract_features(file_path):\n",
    "    y, sr = librosa.load(file_path)\n",
    "    mfccs = librosa.feature.mfcc(y=y, sr=sr, n_mfcc=13)\n",
    "    return np.mean(mfccs, axis=1)\n"
   ]
  },
  {
   "cell_type": "code",
   "execution_count": 3,
   "id": "004fa4b2-744e-436e-bf57-da1605d6ee2a",
   "metadata": {},
   "outputs": [],
   "source": [
    "def label_for_file(file_path):\n",
    "    # Dosya adından dil bilgisini çıkart\n",
    "    lang = file_path.split('-')[0]  # Dosya adı dil-bilgi-...\n",
    "    return lang"
   ]
  },
  {
   "cell_type": "code",
   "execution_count": 4,
   "id": "0d4719a6-2c6a-499d-9f5f-8831c4d19505",
   "metadata": {},
   "outputs": [],
   "source": [
    "# Veri setini hazırlama\n",
    "X = []  #feature \n",
    "y = []  # Label"
   ]
  },
  {
   "cell_type": "code",
   "execution_count": 5,
   "id": "09fe61c5-04b1-448f-96fe-68ee5ca90800",
   "metadata": {},
   "outputs": [],
   "source": [
    "# Ses dosyalarını işleyerek özellikleri çıkarın\n",
    "file_paths = [\"ES-M-1-1.wav\", \"FR-F-1-9.wav\", \"GE-M-1-12.wav\", \"IT-F-1-1.wav\", \"UK-F-2-11.wav\", \"US-F-2-9.wav\", \"US-F-4-1.wav\", \"US-M-2-3.wav\", \"US-M-2-7.wav\", \"US-M-5-9.wav\"]\n",
    "for file_path in file_paths:\n",
    "    features = extract_features(file_path)\n",
    "    X.append(features)\n",
    "    y.append(label_for_file(file_path))  # Dosyaya göre sınıf etiketi"
   ]
  },
  {
   "cell_type": "code",
   "execution_count": 6,
   "id": "5567f8f9-dbea-45bc-8178-7eb6eb9ca4d9",
   "metadata": {},
   "outputs": [],
   "source": [
    "# Veriyi eğitim ve test setlerine ayırma\n",
    "X_train, X_test, y_train, y_test = train_test_split(X, y, test_size=0.5, random_state=42)\n",
    "\n",
    "# Random Forest sınıflandırıcısını oluştur\n",
    "clf = RandomForestClassifier(random_state=42)\n",
    "\n",
    "# Sınıflandırma modelini eğitme\n",
    "clf.fit(X_train, y_train)\n",
    "\n",
    "# Test seti üzerinde tahmin yap\n",
    "y_pred = clf.predict(X_test)"
   ]
  },
  {
   "cell_type": "code",
   "execution_count": 7,
   "id": "6ce70461-ed03-4d1d-9124-7bb5c9fd49d1",
   "metadata": {},
   "outputs": [
    {
     "name": "stdout",
     "output_type": "stream",
     "text": [
      "Sınıflandırma Raporu:\n",
      "               precision    recall  f1-score   support\n",
      "\n",
      "          ES       0.00      0.00      0.00         1\n",
      "          FR       0.00      0.00      0.00         1\n",
      "          GE       0.00      0.00      0.00         0\n",
      "          IT       0.00      0.00      0.00         0\n",
      "          US       0.50      0.33      0.40         3\n",
      "\n",
      "    accuracy                           0.20         5\n",
      "   macro avg       0.10      0.07      0.08         5\n",
      "weighted avg       0.30      0.20      0.24         5\n",
      "\n"
     ]
    },
    {
     "name": "stderr",
     "output_type": "stream",
     "text": [
      "C:\\Users\\Niyazi\\AppData\\Local\\Packages\\PythonSoftwareFoundation.Python.3.11_qbz5n2kfra8p0\\LocalCache\\local-packages\\Python311\\site-packages\\sklearn\\metrics\\_classification.py:1471: UndefinedMetricWarning: Precision and F-score are ill-defined and being set to 0.0 in labels with no predicted samples. Use `zero_division` parameter to control this behavior.\n",
      "  _warn_prf(average, modifier, msg_start, len(result))\n",
      "C:\\Users\\Niyazi\\AppData\\Local\\Packages\\PythonSoftwareFoundation.Python.3.11_qbz5n2kfra8p0\\LocalCache\\local-packages\\Python311\\site-packages\\sklearn\\metrics\\_classification.py:1471: UndefinedMetricWarning: Recall and F-score are ill-defined and being set to 0.0 in labels with no true samples. Use `zero_division` parameter to control this behavior.\n",
      "  _warn_prf(average, modifier, msg_start, len(result))\n",
      "C:\\Users\\Niyazi\\AppData\\Local\\Packages\\PythonSoftwareFoundation.Python.3.11_qbz5n2kfra8p0\\LocalCache\\local-packages\\Python311\\site-packages\\sklearn\\metrics\\_classification.py:1471: UndefinedMetricWarning: Precision and F-score are ill-defined and being set to 0.0 in labels with no predicted samples. Use `zero_division` parameter to control this behavior.\n",
      "  _warn_prf(average, modifier, msg_start, len(result))\n",
      "C:\\Users\\Niyazi\\AppData\\Local\\Packages\\PythonSoftwareFoundation.Python.3.11_qbz5n2kfra8p0\\LocalCache\\local-packages\\Python311\\site-packages\\sklearn\\metrics\\_classification.py:1471: UndefinedMetricWarning: Recall and F-score are ill-defined and being set to 0.0 in labels with no true samples. Use `zero_division` parameter to control this behavior.\n",
      "  _warn_prf(average, modifier, msg_start, len(result))\n",
      "C:\\Users\\Niyazi\\AppData\\Local\\Packages\\PythonSoftwareFoundation.Python.3.11_qbz5n2kfra8p0\\LocalCache\\local-packages\\Python311\\site-packages\\sklearn\\metrics\\_classification.py:1471: UndefinedMetricWarning: Precision and F-score are ill-defined and being set to 0.0 in labels with no predicted samples. Use `zero_division` parameter to control this behavior.\n",
      "  _warn_prf(average, modifier, msg_start, len(result))\n",
      "C:\\Users\\Niyazi\\AppData\\Local\\Packages\\PythonSoftwareFoundation.Python.3.11_qbz5n2kfra8p0\\LocalCache\\local-packages\\Python311\\site-packages\\sklearn\\metrics\\_classification.py:1471: UndefinedMetricWarning: Recall and F-score are ill-defined and being set to 0.0 in labels with no true samples. Use `zero_division` parameter to control this behavior.\n",
      "  _warn_prf(average, modifier, msg_start, len(result))\n"
     ]
    },
    {
     "data": {
      "image/png": "[encoded data removed]",
      "text/plain": [
       "<Figure size 640x480 with 2 Axes>"
      ]
     },
     "metadata": {},
     "output_type": "display_data"
    }
   ],
   "source": [
    "# Sınıflandırma raporunu yazdırma ve ConfusionMatrixDisplay\n",
    "print(\"Sınıflandırma Raporu:\\n\", classification_report(y_test, y_pred))\n",
    "\n",
    "ConfusionMatrixDisplay.from_estimator(clf, X_test, y_test)\n",
    "plt.show()"
   ]
  },
  {
   "cell_type": "code",
   "execution_count": null,
   "id": "502aa0c4-6b6c-4de6-a32c-18c2df13d0fe",
   "metadata": {},
   "outputs": [],
   "source": []
  },
  {
   "cell_type": "code",
   "execution_count": null,
   "id": "d8e78eff-fec8-4332-baef-773ea1e85b2a",
   "metadata": {},
   "outputs": [],
   "source": []
  },
  {
   "cell_type": "code",
   "execution_count": null,
   "id": "da84d8c1-a456-4b2a-b9b1-b9618c8e3c05",
   "metadata": {},
   "outputs": [],
   "source": []
  },
  {
   "cell_type": "code",
   "execution_count": null,
   "id": "1a215e29-3630-4e2d-b4b1-e2911d8b4034",
   "metadata": {},
   "outputs": [],
   "source": []
  },
  {
   "cell_type": "code",
   "execution_count": null,
   "id": "3c04f156-0918-40b2-9132-a221dbe2dc02",
   "metadata": {},
   "outputs": [],
   "source": []
  },
  {
   "cell_type": "code",
   "execution_count": null,
   "id": "4b1cca68-3a37-4a3c-8750-745e86c74240",
   "metadata": {},
   "outputs": [],
   "source": []
  },
  {
   "cell_type": "code",
   "execution_count": null,
   "id": "fe7de18d-1475-499e-9c58-c980d31c9a5a",
   "metadata": {},
   "outputs": [],
   "source": []
  },
  {
   "cell_type": "code",
   "execution_count": null,
   "id": "73996c67-bdef-480a-b694-37fa826fb848",
   "metadata": {},
   "outputs": [],
   "source": []
  },
  {
   "cell_type": "code",
   "execution_count": null,
   "id": "0fe63c88-e397-4ba3-8511-2cb0db4cf1d1",
   "metadata": {},
   "outputs": [],
   "source": []
  },
  {
   "cell_type": "code",
   "execution_count": null,
   "id": "f790cc91-c8a1-4fb3-8067-7d6f659776a6",
   "metadata": {},
   "outputs": [],
   "source": []
  }
 ],
 "metadata": {
  "kernelspec": {
   "display_name": "Python 3 (ipykernel)",
   "language": "python",
   "name": "python3"
  },
  "language_info": {
   "codemirror_mode": {
    "name": "ipython",
    "version": 3
   },
   "file_extension": ".py",
   "mimetype": "text/x-python",
   "name": "python",
   "nbconvert_exporter": "python",
   "pygments_lexer": "ipython3",
   "version": "3.11.7"
  }
 },
 "nbformat": 4,
 "nbformat_minor": 5
}
